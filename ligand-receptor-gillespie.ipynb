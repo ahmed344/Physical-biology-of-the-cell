{
 "cells": [
  {
   "cell_type": "code",
   "execution_count": 1,
   "id": "8b1d17a0-f598-4a38-a473-0abbcde801fa",
   "metadata": {},
   "outputs": [],
   "source": [
    "import numpy as np\n",
    "import matplotlib.pyplot as plt"
   ]
  },
  {
   "cell_type": "code",
   "execution_count": 2,
   "id": "7b1a6756-715b-458e-be13-df09ab8577bd",
   "metadata": {},
   "outputs": [],
   "source": [
    "k_on = 1  # per nM per 1\n",
    "k_off = 20  # per s\n",
    "\n",
    "# concentration\n",
    "c_0 = 20 \n",
    "\n",
    "n_steps = 10\n",
    "\n",
    "# array of waiting time\n",
    "ts = np.zeros(n_steps)\n",
    "\n",
    "# create an array of occupancy\n",
    "occupancy = np.zeros(n_steps)\n",
    "\n",
    "# define rates r\n",
    "r_on = k_on * c_0"
   ]
  },
  {
   "cell_type": "code",
   "execution_count": 3,
   "id": "a67152ba-9448-4421-b38c-b2b15c5ba1cf",
   "metadata": {},
   "outputs": [
    {
     "data": {
      "image/png": "[encoded data removed]",
      "text/plain": [
       "<Figure size 432x288 with 1 Axes>"
      ]
     },
     "metadata": {
      "needs_background": "light"
     },
     "output_type": "display_data"
    }
   ],
   "source": [
    "# main simulation\n",
    "for t in range(n_steps):\n",
    "    # Determine the current state of the receptor\n",
    "    current_state = occupancy[t]\n",
    "    \n",
    "    # determine which rate to use\n",
    "    if current_state == 0:\n",
    "        r = r_on\n",
    "    else:\n",
    "        r = k_off\n",
    "        \n",
    "    # draw a random number to obtain a waiting time\n",
    "    draw = np.random.rand()\n",
    "    ts[t] = -np.log(draw) / r\n",
    "    \n",
    "    # update my occupancy\n",
    "    if t < n_steps-1:\n",
    "        occupancy[t+1] = 1 - current_state\n",
    "\n",
    "# obtain absolute time\n",
    "times = np.cumsum(ts)\n",
    "\n",
    "# plot results\n",
    "plt.step(times, occupancy)\n",
    "plt.xlabel('time [s]')\n",
    "plt.ylabel('state of the receptor');"
   ]
  },
  {
   "cell_type": "code",
   "execution_count": 4,
   "id": "86acd902-648f-484f-a0a3-49b1b9b45813",
   "metadata": {},
   "outputs": [
    {
     "name": "stdout",
     "output_type": "stream",
     "text": [
      "p_bound = 0.291\n"
     ]
    }
   ],
   "source": [
    "time_bound = np.dot(ts, occupancy)\n",
    "print(f'p_bound = {time_bound / np.sum(ts):.3f}')"
   ]
  },
  {
   "cell_type": "code",
   "execution_count": 5,
   "id": "e1170a64-8b5a-4388-bd1a-bb17cecea023",
   "metadata": {},
   "outputs": [],
   "source": [
    "def receptor_gillespie(r_on, r_off,  n_steps):\n",
    "    # new arrays for waiting times and occupancy\n",
    "    ts = np.zeros(n_steps)\n",
    "    occupancy = np.zeros(n_steps)\n",
    "    \n",
    "    # main simulation\n",
    "    for t in range(n_steps):\n",
    "        # Determine the current state of the receptor\n",
    "        current_state = occupancy[t]\n",
    "    \n",
    "        # determine which rate to use\n",
    "        if current_state == 0:\n",
    "            r = r_on\n",
    "        else:\n",
    "            r = r_off\n",
    "            \n",
    "        # draw waiting tine\n",
    "        draw = np.random.rand()\n",
    "        ts[t] = -np.log(draw) / r\n",
    "        \n",
    "        if t < n_steps-1:\n",
    "            occupancy[t+1] = 1 - current_state\n",
    "            \n",
    "    # return p_bound\n",
    "    time_bound = np.dot(occupancy, ts)\n",
    "        \n",
    "    return time_bound / np.sum(ts)"
   ]
  },
  {
   "cell_type": "code",
   "execution_count": 6,
   "id": "3ae4bf77-2c15-4483-8479-89dd0441d280",
   "metadata": {},
   "outputs": [
    {
     "name": "stdout",
     "output_type": "stream",
     "text": [
      "p_bound = 0.447\n"
     ]
    }
   ],
   "source": [
    "n_steps = 200\n",
    "p_bound = receptor_gillespie(r_on, k_off, n_steps)\n",
    "print(f'p_bound = {p_bound:.3f}')"
   ]
  },
  {
   "cell_type": "code",
   "execution_count": 7,
   "id": "5be2264a-6a30-45a5-94f0-6b9c7e272d90",
   "metadata": {},
   "outputs": [
    {
     "name": "stdout",
     "output_type": "stream",
     "text": [
      "the average p_bound = 0.499\n"
     ]
    }
   ],
   "source": [
    "# do several runs of the simulation\n",
    "n_runs = 100\n",
    "n_steps = 200\n",
    "\n",
    "# record p_bound\n",
    "p_bound = np.zeros(n_runs)\n",
    "\n",
    "# loop through runs\n",
    "for r in range(n_runs):\n",
    "    p_bound[r] = receptor_gillespie(r_on, k_off, n_steps)\n",
    "    \n",
    "# print the average p_bound\n",
    "print(f'the average p_bound = {np.mean(p_bound):.3f}')"
   ]
  },
  {
   "cell_type": "code",
   "execution_count": 8,
   "id": "c07c46dd-98fc-46eb-958c-1cb0c1a4b923",
   "metadata": {},
   "outputs": [
    {
     "data": {
      "text/plain": [
       "Text(0, 0.5, 'p_mean')"
      ]
     },
     "execution_count": 8,
     "metadata": {},
     "output_type": "execute_result"
    },
    {
     "data": {
      "image/png": "[encoded data removed]",
      "text/plain": [
       "<Figure size 432x288 with 1 Axes>"
      ]
     },
     "metadata": {
      "needs_background": "light"
     },
     "output_type": "display_data"
    }
   ],
   "source": [
    "n_parameters = 50\n",
    "# do several runs of the simulation\n",
    "n_runs = 100\n",
    "n_steps = 200\n",
    "\n",
    "# set different values for ligands\n",
    "lig_conc = np.linspace(1, 600, n_parameters)\n",
    "\n",
    "# array for p_bound that is nparameters x n_runs in size\n",
    "p_bound = np.zeros((n_parameters,n_runs))\n",
    "\n",
    "# loop through runs\n",
    "for l in range(n_parameters):\n",
    "    c_0 = lig_conc[l]\n",
    "    r_on = k_on * c_0\n",
    "    \n",
    "    for r in range(n_runs):\n",
    "        p_bound[l, r] = receptor_gillespie(r_on, k_off, n_parameters)\n",
    "    \n",
    "p_mean = np.mean(p_bound, axis=1)\n",
    "\n",
    "# plot p_mean vs lig_conc\n",
    "plt.plot(lig_conc, p_mean, label='mean from simulation')\n",
    "plt.xlabel('number of ligands')\n",
    "plt.ylabel('p_mean')"
   ]
  }
 ],
 "metadata": {
  "kernelspec": {
   "display_name": "Python 3 (ipykernel)",
   "language": "python",
   "name": "python3"
  },
  "language_info": {
   "codemirror_mode": {
    "name": "ipython",
    "version": 3
   },
   "file_extension": ".py",
   "mimetype": "text/x-python",
   "name": "python",
   "nbconvert_exporter": "python",
   "pygments_lexer": "ipython3",
   "version": "3.10.4"
  }
 },
 "nbformat": 4,
 "nbformat_minor": 5
}
